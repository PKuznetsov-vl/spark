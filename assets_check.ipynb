{
 "cells": [
  {
   "cell_type": "code",
   "execution_count": 1,
   "id": "initial_id",
   "metadata": {
    "collapsed": true,
    "ExecuteTime": {
     "end_time": "2023-11-15T02:59:39.754461Z",
     "start_time": "2023-11-15T02:59:39.160836Z"
    }
   },
   "outputs": [],
   "source": [
    "import pandas as pd"
   ]
  },
  {
   "cell_type": "code",
   "execution_count": 3,
   "outputs": [
    {
     "data": {
      "text/plain": "             inn                                          full_name  \\\n53    3445091590  ОБЩЕСТВО С ОГРАНИЧЕННОЙ ОТВЕТСТВЕННОСТЬЮ &quot...   \n275   6144009943  ОБЩЕСТВО С ОГРАНИЧЕННОЙ ОТВЕТСТВЕННОСТЬЮ &quot...   \n636   7716533436  ОБЩЕСТВО С ОГРАНИЧЕННОЙ ОТВЕТСТВЕННОСТЬЮ &quot...   \n1801  2315147709  ОБЩЕСТВО С ОГРАНИЧЕННОЙ ОТВЕТСТВЕННОСТЬЮ &quot...   \n3027  2801094519  ОБЩЕСТВО С ОГРАНИЧЕННОЙ ОТВЕТСТВЕННОСТЬЮ &quot...   \n4086  6905057477  ОБЩЕСТВО С ОГРАНИЧЕННОЙ ОТВЕТСТВЕННОСТЬЮ &quot...   \n\n            Assets  Material Assets  \n53    3.823130e+09     3.823356e+09  \n275   9.914500e+07     1.031340e+08  \n636   4.380604e+09     4.380669e+09  \n1801  2.357710e+08     2.358140e+08  \n3027  4.733040e+08     4.733200e+08  \n4086  4.900800e+08     4.900920e+08  ",
      "text/html": "<div>\n<style scoped>\n    .dataframe tbody tr th:only-of-type {\n        vertical-align: middle;\n    }\n\n    .dataframe tbody tr th {\n        vertical-align: top;\n    }\n\n    .dataframe thead th {\n        text-align: right;\n    }\n</style>\n<table border=\"1\" class=\"dataframe\">\n  <thead>\n    <tr style=\"text-align: right;\">\n      <th></th>\n      <th>inn</th>\n      <th>full_name</th>\n      <th>Assets</th>\n      <th>Material Assets</th>\n    </tr>\n  </thead>\n  <tbody>\n    <tr>\n      <th>53</th>\n      <td>3445091590</td>\n      <td>ОБЩЕСТВО С ОГРАНИЧЕННОЙ ОТВЕТСТВЕННОСТЬЮ &amp;quot...</td>\n      <td>3.823130e+09</td>\n      <td>3.823356e+09</td>\n    </tr>\n    <tr>\n      <th>275</th>\n      <td>6144009943</td>\n      <td>ОБЩЕСТВО С ОГРАНИЧЕННОЙ ОТВЕТСТВЕННОСТЬЮ &amp;quot...</td>\n      <td>9.914500e+07</td>\n      <td>1.031340e+08</td>\n    </tr>\n    <tr>\n      <th>636</th>\n      <td>7716533436</td>\n      <td>ОБЩЕСТВО С ОГРАНИЧЕННОЙ ОТВЕТСТВЕННОСТЬЮ &amp;quot...</td>\n      <td>4.380604e+09</td>\n      <td>4.380669e+09</td>\n    </tr>\n    <tr>\n      <th>1801</th>\n      <td>2315147709</td>\n      <td>ОБЩЕСТВО С ОГРАНИЧЕННОЙ ОТВЕТСТВЕННОСТЬЮ &amp;quot...</td>\n      <td>2.357710e+08</td>\n      <td>2.358140e+08</td>\n    </tr>\n    <tr>\n      <th>3027</th>\n      <td>2801094519</td>\n      <td>ОБЩЕСТВО С ОГРАНИЧЕННОЙ ОТВЕТСТВЕННОСТЬЮ &amp;quot...</td>\n      <td>4.733040e+08</td>\n      <td>4.733200e+08</td>\n    </tr>\n    <tr>\n      <th>4086</th>\n      <td>6905057477</td>\n      <td>ОБЩЕСТВО С ОГРАНИЧЕННОЙ ОТВЕТСТВЕННОСТЬЮ &amp;quot...</td>\n      <td>4.900800e+08</td>\n      <td>4.900920e+08</td>\n    </tr>\n  </tbody>\n</table>\n</div>"
     },
     "execution_count": 3,
     "metadata": {},
     "output_type": "execute_result"
    }
   ],
   "source": [
    "df = pd.read_csv('company_fin_okved.csv')\n",
    "filtered  = df.loc[df['Assets'] < df['Material Assets']]\n",
    "filtered[['inn', 'full_name', 'Assets', 'Material Assets']]"
   ],
   "metadata": {
    "collapsed": false,
    "ExecuteTime": {
     "end_time": "2023-11-15T03:00:51.391525Z",
     "start_time": "2023-11-15T03:00:51.358486Z"
    }
   },
   "id": "ca13afeff48a6e22"
  }
 ],
 "metadata": {
  "kernelspec": {
   "display_name": "Python 3",
   "language": "python",
   "name": "python3"
  },
  "language_info": {
   "codemirror_mode": {
    "name": "ipython",
    "version": 2
   },
   "file_extension": ".py",
   "mimetype": "text/x-python",
   "name": "python",
   "nbconvert_exporter": "python",
   "pygments_lexer": "ipython2",
   "version": "2.7.6"
  }
 },
 "nbformat": 4,
 "nbformat_minor": 5
}
