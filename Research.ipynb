{
 "cells": [
  {
   "cell_type": "code",
   "execution_count": 1,
   "id": "initial_id",
   "metadata": {
    "collapsed": true,
    "ExecuteTime": {
     "end_time": "2023-11-07T11:36:03.000223Z",
     "start_time": "2023-11-07T11:36:02.632233Z"
    }
   },
   "outputs": [],
   "source": [
    "import pandas as pd\n",
    "import numpy as np\n",
    "import os\n",
    "from glob import glob\n",
    "import openpyxl as opx\n",
    "from tqdm import tqdm"
   ]
  },
  {
   "cell_type": "code",
   "execution_count": 2,
   "outputs": [
    {
     "data": {
      "text/plain": "               inn          income                              short_name  \\\n290837  4824095713  33821096000000            ООО &quot;АЛЬТЕРНАТИВА&quot;   \n290836  4826133749  28276417000000               ООО &quot;ТЕТРАНИУМ&quot;   \n290835  4825131001  11279905000000                ООО &quot;ТРЕЙДИНГ&quot;   \n290834  7736050003   5179549285000                                     NaN   \n290833  5504036333   2070008652000  ООО &quot;ГАЗПРОМНЕФТЬ-УРАЛ (НБ)&quot;   \n...            ...             ...                                     ...   \n3       5405477070        50002000                 ООО &quot;АРСЕНАЛ&quot;   \n5       5610234680        50002000               ООО &quot;АРК-ЦЕНТР&quot;   \n2       4717010585        50001000                   ООО &quot;ГЕФЕС&quot;   \n1       3664006076        50001000    ГАУ &quot;УЧЕБНЫЙ АВТОКОМБИНАТ&quot;   \n0       3702200020        50001000           ООО &quot;ПКФ ЛИДЕРТЕКС&quot;   \n\n                                                full_name  region  \\\n290837  ОБЩЕСТВО С ОГРАНИЧЕННОЙ ОТВЕТСТВЕННОСТЬЮ &quot...      48   \n290836  ОБЩЕСТВО С ОГРАНИЧЕННОЙ ОТВЕТСТВЕННОСТЬЮ &quot...      48   \n290835  ОБЩЕСТВО С ОГРАНИЧЕННОЙ ОТВЕТСТВЕННОСТЬЮ &quot...      48   \n290834                                       ГАЗПРОМ  ОАО      15   \n290833  ОБЩЕСТВО С ОГРАНИЧЕННОЙ ОТВЕТСТВЕННОСТЬЮ &quot...      66   \n...                                                   ...     ...   \n3       ОБЩЕСТВО С ОГРАНИЧЕННОЙ ОТВЕТСТВЕННОСТЬЮ &quot...      54   \n5       ОБЩЕСТВО С ОГРАНИЧЕННОЙ ОТВЕТСТВЕННОСТЬЮ &quot...      56   \n2       ОБЩЕСТВО С ОГРАНИЧЕННОЙ ОТВЕТСТВЕННОСТЬЮ &quot...      47   \n1       ГОСУДАРСТВЕННОЕ АВТОНОМНОЕ УЧРЕЖДЕНИЕ ВОРОНЕЖС...      36   \n0       ОБЩЕСТВО С ОГРАНИЧЕННОЙ ОТВЕТСТВЕННОСТЬЮ &quot...      37   \n\n                      city                        lat;lon  \n290837           Г. ЛИПЕЦК           52.600951;39.5658043  \n290836           Г. ЛИПЕЦК          52.6008681;39.5917492  \n290835           Г. ЛИПЕЦК  52.5379995;39.585263571415474  \n290834   ГОРОД ВЛАДИКАВКАЗ             43.024593;44.68211  \n290833  ГОРОД ЕКАТЕРИНБУРГ          56.8211021;60.6494182  \n...                    ...                            ...  \n3        ГОРОД НОВОСИБИРСК          55.0115196;82.9378134  \n5                      NaN          51.1985379;58.3070998  \n2                Г. СЛАНЦЫ          59.1247154;28.0860501  \n1              Г. Павловск          50.4574176;40.1051697  \n0               Г. ИВАНОВО          56.8207274;41.4194468  \n\n[290838 rows x 7 columns]",
      "text/html": "<div>\n<style scoped>\n    .dataframe tbody tr th:only-of-type {\n        vertical-align: middle;\n    }\n\n    .dataframe tbody tr th {\n        vertical-align: top;\n    }\n\n    .dataframe thead th {\n        text-align: right;\n    }\n</style>\n<table border=\"1\" class=\"dataframe\">\n  <thead>\n    <tr style=\"text-align: right;\">\n      <th></th>\n      <th>inn</th>\n      <th>income</th>\n      <th>short_name</th>\n      <th>full_name</th>\n      <th>region</th>\n      <th>city</th>\n      <th>lat;lon</th>\n    </tr>\n  </thead>\n  <tbody>\n    <tr>\n      <th>290837</th>\n      <td>4824095713</td>\n      <td>33821096000000</td>\n      <td>ООО &amp;quot;АЛЬТЕРНАТИВА&amp;quot;</td>\n      <td>ОБЩЕСТВО С ОГРАНИЧЕННОЙ ОТВЕТСТВЕННОСТЬЮ &amp;quot...</td>\n      <td>48</td>\n      <td>Г. ЛИПЕЦК</td>\n      <td>52.600951;39.5658043</td>\n    </tr>\n    <tr>\n      <th>290836</th>\n      <td>4826133749</td>\n      <td>28276417000000</td>\n      <td>ООО &amp;quot;ТЕТРАНИУМ&amp;quot;</td>\n      <td>ОБЩЕСТВО С ОГРАНИЧЕННОЙ ОТВЕТСТВЕННОСТЬЮ &amp;quot...</td>\n      <td>48</td>\n      <td>Г. ЛИПЕЦК</td>\n      <td>52.6008681;39.5917492</td>\n    </tr>\n    <tr>\n      <th>290835</th>\n      <td>4825131001</td>\n      <td>11279905000000</td>\n      <td>ООО &amp;quot;ТРЕЙДИНГ&amp;quot;</td>\n      <td>ОБЩЕСТВО С ОГРАНИЧЕННОЙ ОТВЕТСТВЕННОСТЬЮ &amp;quot...</td>\n      <td>48</td>\n      <td>Г. ЛИПЕЦК</td>\n      <td>52.5379995;39.585263571415474</td>\n    </tr>\n    <tr>\n      <th>290834</th>\n      <td>7736050003</td>\n      <td>5179549285000</td>\n      <td>NaN</td>\n      <td>ГАЗПРОМ  ОАО</td>\n      <td>15</td>\n      <td>ГОРОД ВЛАДИКАВКАЗ</td>\n      <td>43.024593;44.68211</td>\n    </tr>\n    <tr>\n      <th>290833</th>\n      <td>5504036333</td>\n      <td>2070008652000</td>\n      <td>ООО &amp;quot;ГАЗПРОМНЕФТЬ-УРАЛ (НБ)&amp;quot;</td>\n      <td>ОБЩЕСТВО С ОГРАНИЧЕННОЙ ОТВЕТСТВЕННОСТЬЮ &amp;quot...</td>\n      <td>66</td>\n      <td>ГОРОД ЕКАТЕРИНБУРГ</td>\n      <td>56.8211021;60.6494182</td>\n    </tr>\n    <tr>\n      <th>...</th>\n      <td>...</td>\n      <td>...</td>\n      <td>...</td>\n      <td>...</td>\n      <td>...</td>\n      <td>...</td>\n      <td>...</td>\n    </tr>\n    <tr>\n      <th>3</th>\n      <td>5405477070</td>\n      <td>50002000</td>\n      <td>ООО &amp;quot;АРСЕНАЛ&amp;quot;</td>\n      <td>ОБЩЕСТВО С ОГРАНИЧЕННОЙ ОТВЕТСТВЕННОСТЬЮ &amp;quot...</td>\n      <td>54</td>\n      <td>ГОРОД НОВОСИБИРСК</td>\n      <td>55.0115196;82.9378134</td>\n    </tr>\n    <tr>\n      <th>5</th>\n      <td>5610234680</td>\n      <td>50002000</td>\n      <td>ООО &amp;quot;АРК-ЦЕНТР&amp;quot;</td>\n      <td>ОБЩЕСТВО С ОГРАНИЧЕННОЙ ОТВЕТСТВЕННОСТЬЮ &amp;quot...</td>\n      <td>56</td>\n      <td>NaN</td>\n      <td>51.1985379;58.3070998</td>\n    </tr>\n    <tr>\n      <th>2</th>\n      <td>4717010585</td>\n      <td>50001000</td>\n      <td>ООО &amp;quot;ГЕФЕС&amp;quot;</td>\n      <td>ОБЩЕСТВО С ОГРАНИЧЕННОЙ ОТВЕТСТВЕННОСТЬЮ &amp;quot...</td>\n      <td>47</td>\n      <td>Г. СЛАНЦЫ</td>\n      <td>59.1247154;28.0860501</td>\n    </tr>\n    <tr>\n      <th>1</th>\n      <td>3664006076</td>\n      <td>50001000</td>\n      <td>ГАУ &amp;quot;УЧЕБНЫЙ АВТОКОМБИНАТ&amp;quot;</td>\n      <td>ГОСУДАРСТВЕННОЕ АВТОНОМНОЕ УЧРЕЖДЕНИЕ ВОРОНЕЖС...</td>\n      <td>36</td>\n      <td>Г. Павловск</td>\n      <td>50.4574176;40.1051697</td>\n    </tr>\n    <tr>\n      <th>0</th>\n      <td>3702200020</td>\n      <td>50001000</td>\n      <td>ООО &amp;quot;ПКФ ЛИДЕРТЕКС&amp;quot;</td>\n      <td>ОБЩЕСТВО С ОГРАНИЧЕННОЙ ОТВЕТСТВЕННОСТЬЮ &amp;quot...</td>\n      <td>37</td>\n      <td>Г. ИВАНОВО</td>\n      <td>56.8207274;41.4194468</td>\n    </tr>\n  </tbody>\n</table>\n<p>290838 rows × 7 columns</p>\n</div>"
     },
     "execution_count": 2,
     "metadata": {},
     "output_type": "execute_result"
    }
   ],
   "source": [
    "org2  = pd.read_csv('Org2_filtr_by_income.csv')\n",
    "org2.drop_duplicates(subset=['inn'])\n",
    "df = org2[['inn', 'income', 'short_name', 'full_name', 'region', 'city', 'lat;lon']]\n",
    "df = df.sort_values('income', ascending=False)\n",
    "df"
   ],
   "metadata": {
    "collapsed": false,
    "ExecuteTime": {
     "end_time": "2023-11-07T11:36:04.667630Z",
     "start_time": "2023-11-07T11:36:03.001352Z"
    }
   },
   "id": "28d5c4a6d8535b5a"
  },
  {
   "cell_type": "code",
   "execution_count": 3,
   "outputs": [
    {
     "name": "stderr",
     "output_type": "stream",
     "text": [
      "100%|██████████| 7369/7369 [01:00<00:00, 120.87it/s]\n"
     ]
    }
   ],
   "source": [
    "downloaded = glob('data/*')\n",
    "inns = list(map(lambda line : int(line[5:]), downloaded))\n",
    "\n",
    "valid = list()\n",
    "err = list()\n",
    "for inn in tqdm(inns):\n",
    "    path = f'data/{inn}/{inn}_report.xlsx'\n",
    "    if os.path.isfile(path):\n",
    "        ws = opx.load_workbook(path).active\n",
    "        years = [ws.cell(row=8, column=ind).value for ind in range(3,20)]\n",
    "        years = list(filter(None, years))\n",
    "        # print(inn)\n",
    "        \n",
    "        maxYear = 0\n",
    "        try:\n",
    "            maxYear = int(years[-1])\n",
    "            if int(years[-1]) >= 2021:\n",
    "                valid.append(inn)\n",
    "        except ValueError:\n",
    "            if '2021' or '2022' in years[-1]:\n",
    "                valid.append(inn)"
   ],
   "metadata": {
    "collapsed": false,
    "ExecuteTime": {
     "end_time": "2023-11-07T11:37:05.668073Z",
     "start_time": "2023-11-07T11:36:04.669331Z"
    }
   },
   "id": "35cced98235a458f"
  },
  {
   "cell_type": "code",
   "execution_count": 4,
   "outputs": [],
   "source": [
    "df = df.loc[df['inn'].isin(valid)]"
   ],
   "metadata": {
    "collapsed": false,
    "ExecuteTime": {
     "end_time": "2023-11-07T11:37:05.675080Z",
     "start_time": "2023-11-07T11:37:05.666144Z"
    }
   },
   "id": "78c65ef343e3396"
  },
  {
   "cell_type": "code",
   "execution_count": 5,
   "outputs": [
    {
     "name": "stderr",
     "output_type": "stream",
     "text": [
      "100%|██████████| 5013/5013 [00:00<00:00, 2085296.63it/s]\n",
      "/var/folders/r_/xvc889350jb1wjh3s9_zfq4m0000gn/T/ipykernel_54474/1460109660.py:9: SettingWithCopyWarning: \n",
      "A value is trying to be set on a copy of a slice from a DataFrame.\n",
      "Try using .loc[row_indexer,col_indexer] = value instead\n",
      "\n",
      "See the caveats in the documentation: https://pandas.pydata.org/pandas-docs/stable/user_guide/indexing.html#returning-a-view-versus-a-copy\n",
      "  df['latitude'] = lat\n",
      "/var/folders/r_/xvc889350jb1wjh3s9_zfq4m0000gn/T/ipykernel_54474/1460109660.py:10: SettingWithCopyWarning: \n",
      "A value is trying to be set on a copy of a slice from a DataFrame.\n",
      "Try using .loc[row_indexer,col_indexer] = value instead\n",
      "\n",
      "See the caveats in the documentation: https://pandas.pydata.org/pandas-docs/stable/user_guide/indexing.html#returning-a-view-versus-a-copy\n",
      "  df['longitude'] = lon\n"
     ]
    },
    {
     "data": {
      "text/plain": "               inn         income                               short_name  \\\n290834  7736050003  5179549285000                                      NaN   \n290833  5504036333  2070008652000   ООО &quot;ГАЗПРОМНЕФТЬ-УРАЛ (НБ)&quot;   \n290832  5504036333  2070008652000  ООО &quot;ГАЗПРОМНЕФТЬ-УРАЛ (АЗС)&quot;   \n290831  5504036333  2070008652000           ООО &quot;МАЛО-ЯМАЛЬСКОЕ&quot;   \n290829  8602060555  1524947700000           ПАО &quot;СУРГУТНЕФТЕГАЗ&quot;   \n...            ...            ...                                      ...   \n283276  6829045090     2413008000                      ООО &quot;РАЙ&quot;   \n283273  4027131618     2411734000        ООО &quot;МАНУФАКТУРЫ БОСКО&quot;   \n283272  6452109727     2411636000                ООО &quot;НИТА-ФАРМ&quot;   \n283271  5204012980     2411567000                   ООО &quot;ННПП-2&quot;   \n283270  7717003752     2411507000                  ООО &quot;ИСРАТЭК&quot;   \n\n                                                full_name  region  \\\n290834                                       ГАЗПРОМ  ОАО      15   \n290833  ОБЩЕСТВО С ОГРАНИЧЕННОЙ ОТВЕТСТВЕННОСТЬЮ &quot...      66   \n290832  ОБЩЕСТВО С ОГРАНИЧЕННОЙ ОТВЕТСТВЕННОСТЬЮ &quot...      66   \n290831  ОБЩЕСТВО С ОГРАНИЧЕННОЙ ОТВЕТСТВЕННОСТЬЮ &quot...      89   \n290829  ПУБЛИЧНОЕ АКЦИОНЕРНОЕ ОБЩЕСТВО &quot;СУРГУТНЕФ...      86   \n...                                                   ...     ...   \n283276  ОБЩЕСТВО С ОГРАНИЧЕННОЙ ОТВЕТСТВЕННОСТЬЮ &quot...      68   \n283273  ОБЩЕСТВО С ОГРАНИЧЕННОЙ ОТВЕТСТВЕННОСТЬЮ &quot...      40   \n283272  ОБЩЕСТВО С ОГРАНИЧЕННОЙ ОТВЕТСТВЕННОСТЬЮ &quot...      64   \n283271  ОБЩЕСТВО С ОГРАНИЧЕННОЙ ОТВЕТСТВЕННОСТЬЮ &quot...      52   \n283270  ОБЩЕСТВО С ОГРАНИЧЕННОЙ ОТВЕТСТВЕННОСТЬЮ &quot...      50   \n\n                       city   latitude  longitude  \n290834    ГОРОД ВЛАДИКАВКАЗ  43.024593  44.682110  \n290833   ГОРОД ЕКАТЕРИНБУРГ  56.821102  60.649418  \n290832   ГОРОД ЕКАТЕРИНБУРГ  56.821102  60.649418  \n290831  ГОРОД НОВЫЙ УРЕНГОЙ  66.092257  76.686521  \n290829            Г. СУРГУТ  61.250704  73.367743  \n...                     ...        ...        ...  \n283276            Г. ТАМБОВ  52.724776  41.453203  \n283273            Г. КАЛУГА  54.536984  36.284765  \n283272           Г. САРАТОВ  52.005230  47.810685  \n283271                  NaN  55.783750  44.776319  \n283270         Г. ЖУКОВСКИЙ  55.600036  38.101026  \n\n[5013 rows x 8 columns]",
      "text/html": "<div>\n<style scoped>\n    .dataframe tbody tr th:only-of-type {\n        vertical-align: middle;\n    }\n\n    .dataframe tbody tr th {\n        vertical-align: top;\n    }\n\n    .dataframe thead th {\n        text-align: right;\n    }\n</style>\n<table border=\"1\" class=\"dataframe\">\n  <thead>\n    <tr style=\"text-align: right;\">\n      <th></th>\n      <th>inn</th>\n      <th>income</th>\n      <th>short_name</th>\n      <th>full_name</th>\n      <th>region</th>\n      <th>city</th>\n      <th>latitude</th>\n      <th>longitude</th>\n    </tr>\n  </thead>\n  <tbody>\n    <tr>\n      <th>290834</th>\n      <td>7736050003</td>\n      <td>5179549285000</td>\n      <td>NaN</td>\n      <td>ГАЗПРОМ  ОАО</td>\n      <td>15</td>\n      <td>ГОРОД ВЛАДИКАВКАЗ</td>\n      <td>43.024593</td>\n      <td>44.682110</td>\n    </tr>\n    <tr>\n      <th>290833</th>\n      <td>5504036333</td>\n      <td>2070008652000</td>\n      <td>ООО &amp;quot;ГАЗПРОМНЕФТЬ-УРАЛ (НБ)&amp;quot;</td>\n      <td>ОБЩЕСТВО С ОГРАНИЧЕННОЙ ОТВЕТСТВЕННОСТЬЮ &amp;quot...</td>\n      <td>66</td>\n      <td>ГОРОД ЕКАТЕРИНБУРГ</td>\n      <td>56.821102</td>\n      <td>60.649418</td>\n    </tr>\n    <tr>\n      <th>290832</th>\n      <td>5504036333</td>\n      <td>2070008652000</td>\n      <td>ООО &amp;quot;ГАЗПРОМНЕФТЬ-УРАЛ (АЗС)&amp;quot;</td>\n      <td>ОБЩЕСТВО С ОГРАНИЧЕННОЙ ОТВЕТСТВЕННОСТЬЮ &amp;quot...</td>\n      <td>66</td>\n      <td>ГОРОД ЕКАТЕРИНБУРГ</td>\n      <td>56.821102</td>\n      <td>60.649418</td>\n    </tr>\n    <tr>\n      <th>290831</th>\n      <td>5504036333</td>\n      <td>2070008652000</td>\n      <td>ООО &amp;quot;МАЛО-ЯМАЛЬСКОЕ&amp;quot;</td>\n      <td>ОБЩЕСТВО С ОГРАНИЧЕННОЙ ОТВЕТСТВЕННОСТЬЮ &amp;quot...</td>\n      <td>89</td>\n      <td>ГОРОД НОВЫЙ УРЕНГОЙ</td>\n      <td>66.092257</td>\n      <td>76.686521</td>\n    </tr>\n    <tr>\n      <th>290829</th>\n      <td>8602060555</td>\n      <td>1524947700000</td>\n      <td>ПАО &amp;quot;СУРГУТНЕФТЕГАЗ&amp;quot;</td>\n      <td>ПУБЛИЧНОЕ АКЦИОНЕРНОЕ ОБЩЕСТВО &amp;quot;СУРГУТНЕФ...</td>\n      <td>86</td>\n      <td>Г. СУРГУТ</td>\n      <td>61.250704</td>\n      <td>73.367743</td>\n    </tr>\n    <tr>\n      <th>...</th>\n      <td>...</td>\n      <td>...</td>\n      <td>...</td>\n      <td>...</td>\n      <td>...</td>\n      <td>...</td>\n      <td>...</td>\n      <td>...</td>\n    </tr>\n    <tr>\n      <th>283276</th>\n      <td>6829045090</td>\n      <td>2413008000</td>\n      <td>ООО &amp;quot;РАЙ&amp;quot;</td>\n      <td>ОБЩЕСТВО С ОГРАНИЧЕННОЙ ОТВЕТСТВЕННОСТЬЮ &amp;quot...</td>\n      <td>68</td>\n      <td>Г. ТАМБОВ</td>\n      <td>52.724776</td>\n      <td>41.453203</td>\n    </tr>\n    <tr>\n      <th>283273</th>\n      <td>4027131618</td>\n      <td>2411734000</td>\n      <td>ООО &amp;quot;МАНУФАКТУРЫ БОСКО&amp;quot;</td>\n      <td>ОБЩЕСТВО С ОГРАНИЧЕННОЙ ОТВЕТСТВЕННОСТЬЮ &amp;quot...</td>\n      <td>40</td>\n      <td>Г. КАЛУГА</td>\n      <td>54.536984</td>\n      <td>36.284765</td>\n    </tr>\n    <tr>\n      <th>283272</th>\n      <td>6452109727</td>\n      <td>2411636000</td>\n      <td>ООО &amp;quot;НИТА-ФАРМ&amp;quot;</td>\n      <td>ОБЩЕСТВО С ОГРАНИЧЕННОЙ ОТВЕТСТВЕННОСТЬЮ &amp;quot...</td>\n      <td>64</td>\n      <td>Г. САРАТОВ</td>\n      <td>52.005230</td>\n      <td>47.810685</td>\n    </tr>\n    <tr>\n      <th>283271</th>\n      <td>5204012980</td>\n      <td>2411567000</td>\n      <td>ООО &amp;quot;ННПП-2&amp;quot;</td>\n      <td>ОБЩЕСТВО С ОГРАНИЧЕННОЙ ОТВЕТСТВЕННОСТЬЮ &amp;quot...</td>\n      <td>52</td>\n      <td>NaN</td>\n      <td>55.783750</td>\n      <td>44.776319</td>\n    </tr>\n    <tr>\n      <th>283270</th>\n      <td>7717003752</td>\n      <td>2411507000</td>\n      <td>ООО &amp;quot;ИСРАТЭК&amp;quot;</td>\n      <td>ОБЩЕСТВО С ОГРАНИЧЕННОЙ ОТВЕТСТВЕННОСТЬЮ &amp;quot...</td>\n      <td>50</td>\n      <td>Г. ЖУКОВСКИЙ</td>\n      <td>55.600036</td>\n      <td>38.101026</td>\n    </tr>\n  </tbody>\n</table>\n<p>5013 rows × 8 columns</p>\n</div>"
     },
     "execution_count": 5,
     "metadata": {},
     "output_type": "execute_result"
    }
   ],
   "source": [
    "ll = df['lat;lon'].values\n",
    "lat = []\n",
    "lon = []\n",
    "for el in tqdm(ll):\n",
    "    temp = el.split(';')\n",
    "    lat.append(float(temp[0]))\n",
    "    lon.append(float(temp[1]))\n",
    "    \n",
    "df['latitude'] = lat\n",
    "df['longitude'] = lon\n",
    "df = df.drop(columns=['lat;lon'])\n",
    "df"
   ],
   "metadata": {
    "collapsed": false,
    "ExecuteTime": {
     "end_time": "2023-11-07T11:37:05.714896Z",
     "start_time": "2023-11-07T11:37:05.677324Z"
    }
   },
   "id": "fe14ca94a23027a2"
  },
  {
   "cell_type": "code",
   "execution_count": 6,
   "outputs": [],
   "source": [
    "df.to_csv('company_df.csv')"
   ],
   "metadata": {
    "collapsed": false,
    "ExecuteTime": {
     "end_time": "2023-11-07T11:37:05.715754Z",
     "start_time": "2023-11-07T11:37:05.689682Z"
    }
   },
   "id": "f8be0469050feedb"
  },
  {
   "cell_type": "code",
   "execution_count": 21,
   "outputs": [
    {
     "name": "stderr",
     "output_type": "stream",
     "text": [
      "100%|██████████| 5013/5013 [00:46<00:00, 107.00it/s]"
     ]
    },
    {
     "name": "stdout",
     "output_type": "stream",
     "text": [
      "18\n"
     ]
    },
    {
     "name": "stderr",
     "output_type": "stream",
     "text": [
      "\n"
     ]
    }
   ],
   "source": [
    "df = pd.read_csv('company_df.csv')\n",
    "df.reset_index(drop=True)\n",
    "inn_list = df['inn']\n",
    "\n",
    "\n",
    "debt = []\n",
    "params_list = [[] for i in range(9)]\n",
    "err = []\n",
    "for inn in tqdm(inn_list):\n",
    "    ws = opx.load_workbook(f'data/{inn}/{inn}_report.xlsx').active\n",
    "    years = [ws.cell(row=8, column=ind).value for ind in range(3,15)]\n",
    "    years = list(filter(None, years))\n",
    "\n",
    "    LAST_COL = len(years) - 1\n",
    "    \n",
    "    try:\n",
    "        debt.append(int(ws.cell(row=35, column=LAST_COL).value) + int(ws.cell(row=40, column=LAST_COL).value))\n",
    "    except (ValueError, TypeError):\n",
    "        debt.append(None)\n",
    "        err.append(inn)\n",
    "        \n",
    "    for val_list, row_num in  zip(params_list, [10, 14, 24, 47, 49, 55, 56, 59, 61]):\n",
    "        try:\n",
    "            val_list.append(int(ws.cell(row=row_num, column=LAST_COL).value))\n",
    "        except (ValueError, TypeError):\n",
    "            val_list.append(None)\n",
    "            \n",
    "            \n",
    "print(len(err))"
   ],
   "metadata": {
    "collapsed": false,
    "ExecuteTime": {
     "end_time": "2023-11-07T12:02:16.507652Z",
     "start_time": "2023-11-07T12:01:29.631538Z"
    }
   },
   "id": "2b9d9e05e2ca3ff5"
  },
  {
   "cell_type": "code",
   "execution_count": 22,
   "outputs": [
    {
     "data": {
      "text/plain": "      Unnamed: 0         inn         income  \\\n0         290834  7736050003  5179549285000   \n1         290833  5504036333  2070008652000   \n2         290832  5504036333  2070008652000   \n3         290831  5504036333  2070008652000   \n4         290829  8602060555  1524947700000   \n...          ...         ...            ...   \n5008      283276  6829045090     2413008000   \n5009      283273  4027131618     2411734000   \n5010      283272  6452109727     2411636000   \n5011      283271  5204012980     2411567000   \n5012      283270  7717003752     2411507000   \n\n                                   short_name  \\\n0                                         NaN   \n1      ООО &quot;ГАЗПРОМНЕФТЬ-УРАЛ (НБ)&quot;   \n2     ООО &quot;ГАЗПРОМНЕФТЬ-УРАЛ (АЗС)&quot;   \n3              ООО &quot;МАЛО-ЯМАЛЬСКОЕ&quot;   \n4              ПАО &quot;СУРГУТНЕФТЕГАЗ&quot;   \n...                                       ...   \n5008                      ООО &quot;РАЙ&quot;   \n5009        ООО &quot;МАНУФАКТУРЫ БОСКО&quot;   \n5010                ООО &quot;НИТА-ФАРМ&quot;   \n5011                   ООО &quot;ННПП-2&quot;   \n5012                  ООО &quot;ИСРАТЭК&quot;   \n\n                                              full_name  region  \\\n0                                          ГАЗПРОМ  ОАО      15   \n1     ОБЩЕСТВО С ОГРАНИЧЕННОЙ ОТВЕТСТВЕННОСТЬЮ &quot...      66   \n2     ОБЩЕСТВО С ОГРАНИЧЕННОЙ ОТВЕТСТВЕННОСТЬЮ &quot...      66   \n3     ОБЩЕСТВО С ОГРАНИЧЕННОЙ ОТВЕТСТВЕННОСТЬЮ &quot...      89   \n4     ПУБЛИЧНОЕ АКЦИОНЕРНОЕ ОБЩЕСТВО &quot;СУРГУТНЕФ...      86   \n...                                                 ...     ...   \n5008  ОБЩЕСТВО С ОГРАНИЧЕННОЙ ОТВЕТСТВЕННОСТЬЮ &quot...      68   \n5009  ОБЩЕСТВО С ОГРАНИЧЕННОЙ ОТВЕТСТВЕННОСТЬЮ &quot...      40   \n5010  ОБЩЕСТВО С ОГРАНИЧЕННОЙ ОТВЕТСТВЕННОСТЬЮ &quot...      64   \n5011  ОБЩЕСТВО С ОГРАНИЧЕННОЙ ОТВЕТСТВЕННОСТЬЮ &quot...      52   \n5012  ОБЩЕСТВО С ОГРАНИЧЕННОЙ ОТВЕТСТВЕННОСТЬЮ &quot...      50   \n\n                     city   latitude  longitude          Debt  ...  \\\n0       ГОРОД ВЛАДИКАВКАЗ  43.024593  44.682110  4.958626e+12  ...   \n1      ГОРОД ЕКАТЕРИНБУРГ  56.821102  60.649418  1.456166e+12  ...   \n2      ГОРОД ЕКАТЕРИНБУРГ  56.821102  60.649418  1.456166e+12  ...   \n3     ГОРОД НОВЫЙ УРЕНГОЙ  66.092257  76.686521  1.456166e+12  ...   \n4               Г. СУРГУТ  61.250704  73.367743  1.956224e+11  ...   \n...                   ...        ...        ...           ...  ...   \n5008            Г. ТАМБОВ  52.724776  41.453203  8.043890e+08  ...   \n5009            Г. КАЛУГА  54.536984  36.284765  1.627681e+09  ...   \n5010           Г. САРАТОВ  52.005230  47.810685  2.625680e+08  ...   \n5011                  NaN  55.783750  44.776319  4.751308e+09  ...   \n5012         Г. ЖУКОВСКИЙ  55.600036  38.101026  1.639965e+09  ...   \n\n      Deferred Assets        Assets       Revenue  Gross profit  \\\n0        2.345270e+11  1.598708e+13  1.126350e+12  4.501800e+11   \n1        5.350425e+09  1.823952e+12  4.849752e+11  6.266542e+10   \n2        5.350425e+09  1.823952e+12  4.849752e+11  6.266542e+10   \n3        5.350425e+09  1.823952e+12  4.849752e+11  6.266542e+10   \n4        2.846012e+09  3.743467e+12  3.198884e+11  9.237023e+10   \n...               ...           ...           ...           ...   \n5008     0.000000e+00  8.217650e+08  1.380262e+09  8.739400e+07   \n5009     3.299100e+07  2.206144e+09  9.974500e+07 -1.183800e+07   \n5010     1.706000e+06  1.751181e+09  1.891464e+09  9.647840e+08   \n5011     1.303320e+08  5.653266e+09  2.082859e+09  3.975990e+08   \n5012     7.065000e+06  1.833724e+09  1.115469e+09  2.741980e+08   \n\n      Interest profit  Interest expences          EBIT        Profit  \\\n0        1.279672e+10       2.748859e+10 -3.806943e+11 -3.062305e+11   \n1        1.032000e+10       1.341651e+10 -2.998806e+09 -2.802774e+09   \n2        1.032000e+10       1.341651e+10 -2.998806e+09 -2.802774e+09   \n3        1.032000e+10       1.341651e+10 -2.998806e+09 -2.802774e+09   \n4        2.207062e+10       0.000000e+00  7.384360e+10  6.208008e+10   \n...               ...                ...           ...           ...   \n5008     0.000000e+00       0.000000e+00  5.010000e+06  4.008000e+06   \n5009     2.408500e+07       1.690200e+07 -1.061560e+08 -8.642600e+07   \n5010     2.300000e+04       1.473600e+07  3.649810e+08  2.879410e+08   \n5011     4.524000e+06       2.789890e+08  4.218900e+07  6.401100e+07   \n5012     8.900000e+04       4.745500e+07  4.803300e+07  3.781100e+07   \n\n      Interest rate  Material Assets  \n0          0.005544     1.573605e+13  \n1          0.009214     1.816013e+12  \n2          0.009214     1.816013e+12  \n3          0.009214     1.816013e+12  \n4          0.000000     3.740044e+12  \n...             ...              ...  \n5008       0.000000     8.217650e+08  \n5009       0.010384     2.173153e+09  \n5010       0.056123     1.745913e+09  \n5011       0.058718     5.522934e+09  \n5012       0.028937     1.826237e+09  \n\n[5013 rows x 21 columns]",
      "text/html": "<div>\n<style scoped>\n    .dataframe tbody tr th:only-of-type {\n        vertical-align: middle;\n    }\n\n    .dataframe tbody tr th {\n        vertical-align: top;\n    }\n\n    .dataframe thead th {\n        text-align: right;\n    }\n</style>\n<table border=\"1\" class=\"dataframe\">\n  <thead>\n    <tr style=\"text-align: right;\">\n      <th></th>\n      <th>Unnamed: 0</th>\n      <th>inn</th>\n      <th>income</th>\n      <th>short_name</th>\n      <th>full_name</th>\n      <th>region</th>\n      <th>city</th>\n      <th>latitude</th>\n      <th>longitude</th>\n      <th>Debt</th>\n      <th>...</th>\n      <th>Deferred Assets</th>\n      <th>Assets</th>\n      <th>Revenue</th>\n      <th>Gross profit</th>\n      <th>Interest profit</th>\n      <th>Interest expences</th>\n      <th>EBIT</th>\n      <th>Profit</th>\n      <th>Interest rate</th>\n      <th>Material Assets</th>\n    </tr>\n  </thead>\n  <tbody>\n    <tr>\n      <th>0</th>\n      <td>290834</td>\n      <td>7736050003</td>\n      <td>5179549285000</td>\n      <td>NaN</td>\n      <td>ГАЗПРОМ  ОАО</td>\n      <td>15</td>\n      <td>ГОРОД ВЛАДИКАВКАЗ</td>\n      <td>43.024593</td>\n      <td>44.682110</td>\n      <td>4.958626e+12</td>\n      <td>...</td>\n      <td>2.345270e+11</td>\n      <td>1.598708e+13</td>\n      <td>1.126350e+12</td>\n      <td>4.501800e+11</td>\n      <td>1.279672e+10</td>\n      <td>2.748859e+10</td>\n      <td>-3.806943e+11</td>\n      <td>-3.062305e+11</td>\n      <td>0.005544</td>\n      <td>1.573605e+13</td>\n    </tr>\n    <tr>\n      <th>1</th>\n      <td>290833</td>\n      <td>5504036333</td>\n      <td>2070008652000</td>\n      <td>ООО &amp;quot;ГАЗПРОМНЕФТЬ-УРАЛ (НБ)&amp;quot;</td>\n      <td>ОБЩЕСТВО С ОГРАНИЧЕННОЙ ОТВЕТСТВЕННОСТЬЮ &amp;quot...</td>\n      <td>66</td>\n      <td>ГОРОД ЕКАТЕРИНБУРГ</td>\n      <td>56.821102</td>\n      <td>60.649418</td>\n      <td>1.456166e+12</td>\n      <td>...</td>\n      <td>5.350425e+09</td>\n      <td>1.823952e+12</td>\n      <td>4.849752e+11</td>\n      <td>6.266542e+10</td>\n      <td>1.032000e+10</td>\n      <td>1.341651e+10</td>\n      <td>-2.998806e+09</td>\n      <td>-2.802774e+09</td>\n      <td>0.009214</td>\n      <td>1.816013e+12</td>\n    </tr>\n    <tr>\n      <th>2</th>\n      <td>290832</td>\n      <td>5504036333</td>\n      <td>2070008652000</td>\n      <td>ООО &amp;quot;ГАЗПРОМНЕФТЬ-УРАЛ (АЗС)&amp;quot;</td>\n      <td>ОБЩЕСТВО С ОГРАНИЧЕННОЙ ОТВЕТСТВЕННОСТЬЮ &amp;quot...</td>\n      <td>66</td>\n      <td>ГОРОД ЕКАТЕРИНБУРГ</td>\n      <td>56.821102</td>\n      <td>60.649418</td>\n      <td>1.456166e+12</td>\n      <td>...</td>\n      <td>5.350425e+09</td>\n      <td>1.823952e+12</td>\n      <td>4.849752e+11</td>\n      <td>6.266542e+10</td>\n      <td>1.032000e+10</td>\n      <td>1.341651e+10</td>\n      <td>-2.998806e+09</td>\n      <td>-2.802774e+09</td>\n      <td>0.009214</td>\n      <td>1.816013e+12</td>\n    </tr>\n    <tr>\n      <th>3</th>\n      <td>290831</td>\n      <td>5504036333</td>\n      <td>2070008652000</td>\n      <td>ООО &amp;quot;МАЛО-ЯМАЛЬСКОЕ&amp;quot;</td>\n      <td>ОБЩЕСТВО С ОГРАНИЧЕННОЙ ОТВЕТСТВЕННОСТЬЮ &amp;quot...</td>\n      <td>89</td>\n      <td>ГОРОД НОВЫЙ УРЕНГОЙ</td>\n      <td>66.092257</td>\n      <td>76.686521</td>\n      <td>1.456166e+12</td>\n      <td>...</td>\n      <td>5.350425e+09</td>\n      <td>1.823952e+12</td>\n      <td>4.849752e+11</td>\n      <td>6.266542e+10</td>\n      <td>1.032000e+10</td>\n      <td>1.341651e+10</td>\n      <td>-2.998806e+09</td>\n      <td>-2.802774e+09</td>\n      <td>0.009214</td>\n      <td>1.816013e+12</td>\n    </tr>\n    <tr>\n      <th>4</th>\n      <td>290829</td>\n      <td>8602060555</td>\n      <td>1524947700000</td>\n      <td>ПАО &amp;quot;СУРГУТНЕФТЕГАЗ&amp;quot;</td>\n      <td>ПУБЛИЧНОЕ АКЦИОНЕРНОЕ ОБЩЕСТВО &amp;quot;СУРГУТНЕФ...</td>\n      <td>86</td>\n      <td>Г. СУРГУТ</td>\n      <td>61.250704</td>\n      <td>73.367743</td>\n      <td>1.956224e+11</td>\n      <td>...</td>\n      <td>2.846012e+09</td>\n      <td>3.743467e+12</td>\n      <td>3.198884e+11</td>\n      <td>9.237023e+10</td>\n      <td>2.207062e+10</td>\n      <td>0.000000e+00</td>\n      <td>7.384360e+10</td>\n      <td>6.208008e+10</td>\n      <td>0.000000</td>\n      <td>3.740044e+12</td>\n    </tr>\n    <tr>\n      <th>...</th>\n      <td>...</td>\n      <td>...</td>\n      <td>...</td>\n      <td>...</td>\n      <td>...</td>\n      <td>...</td>\n      <td>...</td>\n      <td>...</td>\n      <td>...</td>\n      <td>...</td>\n      <td>...</td>\n      <td>...</td>\n      <td>...</td>\n      <td>...</td>\n      <td>...</td>\n      <td>...</td>\n      <td>...</td>\n      <td>...</td>\n      <td>...</td>\n      <td>...</td>\n      <td>...</td>\n    </tr>\n    <tr>\n      <th>5008</th>\n      <td>283276</td>\n      <td>6829045090</td>\n      <td>2413008000</td>\n      <td>ООО &amp;quot;РАЙ&amp;quot;</td>\n      <td>ОБЩЕСТВО С ОГРАНИЧЕННОЙ ОТВЕТСТВЕННОСТЬЮ &amp;quot...</td>\n      <td>68</td>\n      <td>Г. ТАМБОВ</td>\n      <td>52.724776</td>\n      <td>41.453203</td>\n      <td>8.043890e+08</td>\n      <td>...</td>\n      <td>0.000000e+00</td>\n      <td>8.217650e+08</td>\n      <td>1.380262e+09</td>\n      <td>8.739400e+07</td>\n      <td>0.000000e+00</td>\n      <td>0.000000e+00</td>\n      <td>5.010000e+06</td>\n      <td>4.008000e+06</td>\n      <td>0.000000</td>\n      <td>8.217650e+08</td>\n    </tr>\n    <tr>\n      <th>5009</th>\n      <td>283273</td>\n      <td>4027131618</td>\n      <td>2411734000</td>\n      <td>ООО &amp;quot;МАНУФАКТУРЫ БОСКО&amp;quot;</td>\n      <td>ОБЩЕСТВО С ОГРАНИЧЕННОЙ ОТВЕТСТВЕННОСТЬЮ &amp;quot...</td>\n      <td>40</td>\n      <td>Г. КАЛУГА</td>\n      <td>54.536984</td>\n      <td>36.284765</td>\n      <td>1.627681e+09</td>\n      <td>...</td>\n      <td>3.299100e+07</td>\n      <td>2.206144e+09</td>\n      <td>9.974500e+07</td>\n      <td>-1.183800e+07</td>\n      <td>2.408500e+07</td>\n      <td>1.690200e+07</td>\n      <td>-1.061560e+08</td>\n      <td>-8.642600e+07</td>\n      <td>0.010384</td>\n      <td>2.173153e+09</td>\n    </tr>\n    <tr>\n      <th>5010</th>\n      <td>283272</td>\n      <td>6452109727</td>\n      <td>2411636000</td>\n      <td>ООО &amp;quot;НИТА-ФАРМ&amp;quot;</td>\n      <td>ОБЩЕСТВО С ОГРАНИЧЕННОЙ ОТВЕТСТВЕННОСТЬЮ &amp;quot...</td>\n      <td>64</td>\n      <td>Г. САРАТОВ</td>\n      <td>52.005230</td>\n      <td>47.810685</td>\n      <td>2.625680e+08</td>\n      <td>...</td>\n      <td>1.706000e+06</td>\n      <td>1.751181e+09</td>\n      <td>1.891464e+09</td>\n      <td>9.647840e+08</td>\n      <td>2.300000e+04</td>\n      <td>1.473600e+07</td>\n      <td>3.649810e+08</td>\n      <td>2.879410e+08</td>\n      <td>0.056123</td>\n      <td>1.745913e+09</td>\n    </tr>\n    <tr>\n      <th>5011</th>\n      <td>283271</td>\n      <td>5204012980</td>\n      <td>2411567000</td>\n      <td>ООО &amp;quot;ННПП-2&amp;quot;</td>\n      <td>ОБЩЕСТВО С ОГРАНИЧЕННОЙ ОТВЕТСТВЕННОСТЬЮ &amp;quot...</td>\n      <td>52</td>\n      <td>NaN</td>\n      <td>55.783750</td>\n      <td>44.776319</td>\n      <td>4.751308e+09</td>\n      <td>...</td>\n      <td>1.303320e+08</td>\n      <td>5.653266e+09</td>\n      <td>2.082859e+09</td>\n      <td>3.975990e+08</td>\n      <td>4.524000e+06</td>\n      <td>2.789890e+08</td>\n      <td>4.218900e+07</td>\n      <td>6.401100e+07</td>\n      <td>0.058718</td>\n      <td>5.522934e+09</td>\n    </tr>\n    <tr>\n      <th>5012</th>\n      <td>283270</td>\n      <td>7717003752</td>\n      <td>2411507000</td>\n      <td>ООО &amp;quot;ИСРАТЭК&amp;quot;</td>\n      <td>ОБЩЕСТВО С ОГРАНИЧЕННОЙ ОТВЕТСТВЕННОСТЬЮ &amp;quot...</td>\n      <td>50</td>\n      <td>Г. ЖУКОВСКИЙ</td>\n      <td>55.600036</td>\n      <td>38.101026</td>\n      <td>1.639965e+09</td>\n      <td>...</td>\n      <td>7.065000e+06</td>\n      <td>1.833724e+09</td>\n      <td>1.115469e+09</td>\n      <td>2.741980e+08</td>\n      <td>8.900000e+04</td>\n      <td>4.745500e+07</td>\n      <td>4.803300e+07</td>\n      <td>3.781100e+07</td>\n      <td>0.028937</td>\n      <td>1.826237e+09</td>\n    </tr>\n  </tbody>\n</table>\n<p>5013 rows × 21 columns</p>\n</div>"
     },
     "execution_count": 22,
     "metadata": {},
     "output_type": "execute_result"
    }
   ],
   "source": [
    "df['Debt'] = debt\n",
    "\n",
    "names = ['Non Material', 'Deferred Assets', 'Assets', 'Revenue', 'Gross profit', 'Interest profit', 'Interest expences', 'EBIT', 'Profit']\n",
    "for i in range(9):\n",
    "    df[names[i]] = params_list[i]\n",
    "    \n",
    "# df = pd.read_csv('company_fin_df.csv')\n",
    "df['Interest rate'] = df['Interest expences'] / df['Debt']\n",
    "df['Material Assets'] = df['Assets'] - df['Non Material'] - df['Deferred Assets']\n",
    "\n",
    "df"
   ],
   "metadata": {
    "collapsed": false,
    "ExecuteTime": {
     "end_time": "2023-11-07T12:02:16.544816Z",
     "start_time": "2023-11-07T12:02:16.515738Z"
    }
   },
   "id": "efa37ab24d45737e"
  },
  {
   "cell_type": "code",
   "execution_count": 24,
   "outputs": [],
   "source": [
    "df.to_csv('company_fin_df.csv')"
   ],
   "metadata": {
    "collapsed": false,
    "ExecuteTime": {
     "end_time": "2023-11-07T12:03:31.515524Z",
     "start_time": "2023-11-07T12:03:31.440122Z"
    }
   },
   "id": "72850ad74202974"
  }
 ],
 "metadata": {
  "kernelspec": {
   "display_name": "Python 3",
   "language": "python",
   "name": "python3"
  },
  "language_info": {
   "codemirror_mode": {
    "name": "ipython",
    "version": 2
   },
   "file_extension": ".py",
   "mimetype": "text/x-python",
   "name": "python",
   "nbconvert_exporter": "python",
   "pygments_lexer": "ipython2",
   "version": "2.7.6"
  }
 },
 "nbformat": 4,
 "nbformat_minor": 5
}
